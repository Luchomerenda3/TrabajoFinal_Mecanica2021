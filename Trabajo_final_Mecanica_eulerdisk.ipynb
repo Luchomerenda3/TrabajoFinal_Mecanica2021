{
 "cells": [
  {
   "cell_type": "code",
   "source": [
    "#Importamos librerías importantes a usar\n",
    "import numpy as np\n",
    "from scipy.integrate import solve_ivp\n",
    "from scipy import constants as ctes\n",
    "\n",
    "import matplotlib as mpl\n",
    "import matplotlib.pyplot as plt\n",
    "\n",
    "%matplotlib inline #para que se vean bien los gráficos en jupyter notebook:"
   ],
   "metadata": {
    "collapsed": false,
    "pycharm": {
     "name": "#%%\n"
    }
   },
   "execution_count": 14,
   "outputs": [
    {
     "name": "stderr",
     "output_type": "stream",
     "text": [
      "UsageError: unrecognized arguments: #para que se vean bien los gráficos en jupyter notebook:\n"
     ]
    }
   ]
  },
  {
   "cell_type": "markdown",
   "source": [
    "# Modelo y análisis de Leine et al. 2009"
   ],
   "metadata": {
    "collapsed": false
   }
  },
  {
   "cell_type": "code",
   "execution_count": 15,
   "outputs": [
    {
     "ename": "ValueError",
     "evalue": "operands could not be broadcast together with shapes (8,) (9,) ",
     "output_type": "error",
     "traceback": [
      "\u001B[0;31m---------------------------------------------------------------------------\u001B[0m",
      "\u001B[0;31mValueError\u001B[0m                                Traceback (most recent call last)",
      "\u001B[0;32m/tmp/ipykernel_56170/3239254019.py\u001B[0m in \u001B[0;36m<module>\u001B[0;34m\u001B[0m\n\u001B[1;32m     60\u001B[0m \u001B[0;34m\u001B[0m\u001B[0m\n\u001B[1;32m     61\u001B[0m \u001B[0;31m#Resolvemos el sistema\u001B[0m\u001B[0;34m\u001B[0m\u001B[0;34m\u001B[0m\u001B[0;34m\u001B[0m\u001B[0m\n\u001B[0;32m---> 62\u001B[0;31m \u001B[0msol_leine\u001B[0m \u001B[0;34m=\u001B[0m \u001B[0msolve_ivp\u001B[0m\u001B[0;34m(\u001B[0m\u001B[0mleine\u001B[0m\u001B[0;34m,\u001B[0m \u001B[0mt_span\u001B[0m\u001B[0;34m=\u001B[0m\u001B[0;34m(\u001B[0m\u001B[0;36m0.\u001B[0m\u001B[0;34m,\u001B[0m\u001B[0;36m40.\u001B[0m\u001B[0;34m)\u001B[0m\u001B[0;34m,\u001B[0m\u001B[0my0\u001B[0m\u001B[0;34m=\u001B[0m\u001B[0mcond_init\u001B[0m\u001B[0;34m,\u001B[0m \u001B[0margs\u001B[0m\u001B[0;34m=\u001B[0m\u001B[0mleine_args\u001B[0m\u001B[0;34m)\u001B[0m\u001B[0;34m\u001B[0m\u001B[0;34m\u001B[0m\u001B[0m\n\u001B[0m\u001B[1;32m     63\u001B[0m \u001B[0;34m\u001B[0m\u001B[0m\n\u001B[1;32m     64\u001B[0m \u001B[0mhelp\u001B[0m\u001B[0;34m(\u001B[0m\u001B[0msol_leine\u001B[0m\u001B[0;34m)\u001B[0m\u001B[0;34m\u001B[0m\u001B[0;34m\u001B[0m\u001B[0m\n",
      "\u001B[0;32m~/anaconda3/lib/python3.8/site-packages/scipy/integrate/_ivp/ivp.py\u001B[0m in \u001B[0;36msolve_ivp\u001B[0;34m(fun, t_span, y0, method, t_eval, dense_output, events, vectorized, args, **options)\u001B[0m\n\u001B[1;32m    540\u001B[0m         \u001B[0mmethod\u001B[0m \u001B[0;34m=\u001B[0m \u001B[0mMETHODS\u001B[0m\u001B[0;34m[\u001B[0m\u001B[0mmethod\u001B[0m\u001B[0;34m]\u001B[0m\u001B[0;34m\u001B[0m\u001B[0;34m\u001B[0m\u001B[0m\n\u001B[1;32m    541\u001B[0m \u001B[0;34m\u001B[0m\u001B[0m\n\u001B[0;32m--> 542\u001B[0;31m     \u001B[0msolver\u001B[0m \u001B[0;34m=\u001B[0m \u001B[0mmethod\u001B[0m\u001B[0;34m(\u001B[0m\u001B[0mfun\u001B[0m\u001B[0;34m,\u001B[0m \u001B[0mt0\u001B[0m\u001B[0;34m,\u001B[0m \u001B[0my0\u001B[0m\u001B[0;34m,\u001B[0m \u001B[0mtf\u001B[0m\u001B[0;34m,\u001B[0m \u001B[0mvectorized\u001B[0m\u001B[0;34m=\u001B[0m\u001B[0mvectorized\u001B[0m\u001B[0;34m,\u001B[0m \u001B[0;34m**\u001B[0m\u001B[0moptions\u001B[0m\u001B[0;34m)\u001B[0m\u001B[0;34m\u001B[0m\u001B[0;34m\u001B[0m\u001B[0m\n\u001B[0m\u001B[1;32m    543\u001B[0m \u001B[0;34m\u001B[0m\u001B[0m\n\u001B[1;32m    544\u001B[0m     \u001B[0;32mif\u001B[0m \u001B[0mt_eval\u001B[0m \u001B[0;32mis\u001B[0m \u001B[0;32mNone\u001B[0m\u001B[0;34m:\u001B[0m\u001B[0;34m\u001B[0m\u001B[0;34m\u001B[0m\u001B[0m\n",
      "\u001B[0;32m~/anaconda3/lib/python3.8/site-packages/scipy/integrate/_ivp/rk.py\u001B[0m in \u001B[0;36m__init__\u001B[0;34m(self, fun, t0, y0, t_bound, max_step, rtol, atol, vectorized, first_step, **extraneous)\u001B[0m\n\u001B[1;32m     94\u001B[0m         \u001B[0mself\u001B[0m\u001B[0;34m.\u001B[0m\u001B[0mf\u001B[0m \u001B[0;34m=\u001B[0m \u001B[0mself\u001B[0m\u001B[0;34m.\u001B[0m\u001B[0mfun\u001B[0m\u001B[0;34m(\u001B[0m\u001B[0mself\u001B[0m\u001B[0;34m.\u001B[0m\u001B[0mt\u001B[0m\u001B[0;34m,\u001B[0m \u001B[0mself\u001B[0m\u001B[0;34m.\u001B[0m\u001B[0my\u001B[0m\u001B[0;34m)\u001B[0m\u001B[0;34m\u001B[0m\u001B[0;34m\u001B[0m\u001B[0m\n\u001B[1;32m     95\u001B[0m         \u001B[0;32mif\u001B[0m \u001B[0mfirst_step\u001B[0m \u001B[0;32mis\u001B[0m \u001B[0;32mNone\u001B[0m\u001B[0;34m:\u001B[0m\u001B[0;34m\u001B[0m\u001B[0;34m\u001B[0m\u001B[0m\n\u001B[0;32m---> 96\u001B[0;31m             self.h_abs = select_initial_step(\n\u001B[0m\u001B[1;32m     97\u001B[0m                 \u001B[0mself\u001B[0m\u001B[0;34m.\u001B[0m\u001B[0mfun\u001B[0m\u001B[0;34m,\u001B[0m \u001B[0mself\u001B[0m\u001B[0;34m.\u001B[0m\u001B[0mt\u001B[0m\u001B[0;34m,\u001B[0m \u001B[0mself\u001B[0m\u001B[0;34m.\u001B[0m\u001B[0my\u001B[0m\u001B[0;34m,\u001B[0m \u001B[0mself\u001B[0m\u001B[0;34m.\u001B[0m\u001B[0mf\u001B[0m\u001B[0;34m,\u001B[0m \u001B[0mself\u001B[0m\u001B[0;34m.\u001B[0m\u001B[0mdirection\u001B[0m\u001B[0;34m,\u001B[0m\u001B[0;34m\u001B[0m\u001B[0;34m\u001B[0m\u001B[0m\n\u001B[1;32m     98\u001B[0m                 self.error_estimator_order, self.rtol, self.atol)\n",
      "\u001B[0;32m~/anaconda3/lib/python3.8/site-packages/scipy/integrate/_ivp/common.py\u001B[0m in \u001B[0;36mselect_initial_step\u001B[0;34m(fun, t0, y0, f0, direction, order, rtol, atol)\u001B[0m\n\u001B[1;32m    102\u001B[0m     \u001B[0mscale\u001B[0m \u001B[0;34m=\u001B[0m \u001B[0matol\u001B[0m \u001B[0;34m+\u001B[0m \u001B[0mnp\u001B[0m\u001B[0;34m.\u001B[0m\u001B[0mabs\u001B[0m\u001B[0;34m(\u001B[0m\u001B[0my0\u001B[0m\u001B[0;34m)\u001B[0m \u001B[0;34m*\u001B[0m \u001B[0mrtol\u001B[0m\u001B[0;34m\u001B[0m\u001B[0;34m\u001B[0m\u001B[0m\n\u001B[1;32m    103\u001B[0m     \u001B[0md0\u001B[0m \u001B[0;34m=\u001B[0m \u001B[0mnorm\u001B[0m\u001B[0;34m(\u001B[0m\u001B[0my0\u001B[0m \u001B[0;34m/\u001B[0m \u001B[0mscale\u001B[0m\u001B[0;34m)\u001B[0m\u001B[0;34m\u001B[0m\u001B[0;34m\u001B[0m\u001B[0m\n\u001B[0;32m--> 104\u001B[0;31m     \u001B[0md1\u001B[0m \u001B[0;34m=\u001B[0m \u001B[0mnorm\u001B[0m\u001B[0;34m(\u001B[0m\u001B[0mf0\u001B[0m \u001B[0;34m/\u001B[0m \u001B[0mscale\u001B[0m\u001B[0;34m)\u001B[0m\u001B[0;34m\u001B[0m\u001B[0;34m\u001B[0m\u001B[0m\n\u001B[0m\u001B[1;32m    105\u001B[0m     \u001B[0;32mif\u001B[0m \u001B[0md0\u001B[0m \u001B[0;34m<\u001B[0m \u001B[0;36m1e-5\u001B[0m \u001B[0;32mor\u001B[0m \u001B[0md1\u001B[0m \u001B[0;34m<\u001B[0m \u001B[0;36m1e-5\u001B[0m\u001B[0;34m:\u001B[0m\u001B[0;34m\u001B[0m\u001B[0;34m\u001B[0m\u001B[0m\n\u001B[1;32m    106\u001B[0m         \u001B[0mh0\u001B[0m \u001B[0;34m=\u001B[0m \u001B[0;36m1e-6\u001B[0m\u001B[0;34m\u001B[0m\u001B[0;34m\u001B[0m\u001B[0m\n",
      "\u001B[0;31mValueError\u001B[0m: operands could not be broadcast together with shapes (8,) (9,) "
     ]
    }
   ],
   "source": [
    "#Definimos el modelo como un sistema de odes de 1 orden.\n",
    "def leine(t,cond_init,k1,k2,eps,gn,rr):\n",
    "\n",
    "    #Dejo esto para usar más adelante\n",
    "    Fx_diss = 0\n",
    "    Fy_diss = 0\n",
    "    Fz_diss = 0\n",
    "\n",
    "    #Condiciones iniciales del sistema\n",
    "    Beta,omegaB,Gamma,omegaG,Alfa,omegaA,x,y,domegaA = cond_init\n",
    "\n",
    "    domegaB = (1 / (k1 + 1 + np.square(eps))) * (Fx_diss + gn * (np.sin(Beta) - eps * np.cos(Beta)) - (np.cos(Beta) * (k2 + 1 + eps * np.tan(Beta))) * omegaG * omegaA - ((k2 + 1 + eps * np.tan(Beta)) * np.sin(Beta) * np.cos(Beta) + ((k1 + np.square(eps)) * np.tan(Beta) + eps) * np.square(np.cos(Beta))) * np.square(omegaA))\n",
    "    domegaG = (1 / (k2 + 1)) * (Fy_diss - ((k2 + 1) * np.sin(Beta) - eps * np.cos(Beta)) * domegaA - (eps * np.sin(Beta) + (k2 + 2 + eps * np.tan(Beta)) * np.cos(Beta)) * omegaA * omegaB)\n",
    "    domegaA = (1 / ((k1 + np.square(eps)) * np.cos(Beta) - np.sin(Beta))) * (Fz_diss + eps * domegaG - ((k2 - k1 + np.square(eps)) * np.sin(Beta) - ((k1 + np.square(eps)) * np.tan(Beta) + 2 * eps) * np.cos(Beta)) * omegaA * omegaB - k2 * omegaG * omegaB)\n",
    "\n",
    "    #these hold only for pure rolling i.e. rolling without slipping\n",
    "    vx = rr * omegaG + (y + 2 * rr * np.sin(Beta)) * omegaA\n",
    "    vy = -omegaA * x\n",
    "\n",
    "    return omegaB,domegaB,omegaG,domegaG,omegaA,domegaA,vx,vy\n",
    "\n",
    "#seteamos las condiciones iniciales\n",
    "x_0 = 0\n",
    "y_0 = 0.3 #en m?\n",
    "Beta = np.pi / 8  # Empezamos a 22.5 grados\n",
    "omegaB_O = 0\n",
    "Gamma = 0\n",
    "omegaG_O = 2 * np.pi\n",
    "Alfa = 0\n",
    "omegaA_O = 0\n",
    "domega_A = 0\n",
    "cond_init = [Beta,omegaB_O,Gamma,omegaG_O,Alfa,omegaA_O,x_0,y_0,domega_A]\n",
    "\n",
    "######################################\n",
    "##seteamos los parametros del modelo##\n",
    "######################################\n",
    "\n",
    "m = 0.4499   #masa del modelo en kg\n",
    "r_0 = 0.0381 #radio del disco en [m] <- 75.5 mm / 2\n",
    "r = 0.035    #radio de rodadura     <- 70 mm no se de donde lo saco a este\n",
    "h = 0.00635  #Ancho del disco en [m]  <-  12.7 mm / 2\n",
    "g = ctes.g   #Constante gravitacional\n",
    "\n",
    "#Momentos de inercia de los ejes principales\n",
    "I_11 = (1 / 4) * m * np.square(r_0) + (1 / 12) * m * np.square(h)\n",
    "I_22 = I_11\n",
    "I_33 = (1 / 2) * m * np.square(r_0)\n",
    "norm_I = m * np.square(r)\n",
    "\n",
    "#Calculamos los parametros usados finalmente.\n",
    "k_1 = I_11 / norm_I\n",
    "k_2 = I_33 / norm_I\n",
    "epsilon = h / r\n",
    "g_norm = g / r\n",
    "\n",
    "leine_args = [k_1,k_2,epsilon,g_norm,r]\n",
    "\n",
    "#Definimos un intervalo de 40 segundos\n",
    "time = np.linspace(0,40,100)\n",
    "\n",
    "#Resolvemos el sistema\n",
    "sol_leine = solve_ivp(leine, t_span=(0.,40.),y0=cond_init, args=leine_args)\n",
    "\n",
    "help(sol_leine)"
   ],
   "metadata": {
    "collapsed": false,
    "pycharm": {
     "name": "#%%\n"
    }
   }
  },
  {
   "cell_type": "markdown",
   "source": [
    "# Modelo de Cendra y Díaz et al. 2007\n",
    "\n",
    "def cendra():\n",
    "\n",
    "    return tuple\n",
    "\n",
    "time = np.linspace(0,40,100) #Definimos un intervalo de 40 segundos\n"
   ],
   "metadata": {
    "collapsed": false,
    "pycharm": {
     "name": "#%% md\n"
    }
   }
  }
 ],
 "metadata": {
  "kernelspec": {
   "display_name": "Python 3",
   "language": "python",
   "name": "python3"
  },
  "language_info": {
   "codemirror_mode": {
    "name": "ipython",
    "version": 2
   },
   "file_extension": ".py",
   "mimetype": "text/x-python",
   "name": "python",
   "nbconvert_exporter": "python",
   "pygments_lexer": "ipython2",
   "version": "2.7.6"
  }
 },
 "nbformat": 4,
 "nbformat_minor": 0
}