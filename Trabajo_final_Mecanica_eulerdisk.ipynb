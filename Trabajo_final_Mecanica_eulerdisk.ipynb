{
 "cells": [
  {
   "cell_type": "code",
   "source": [
    "#Importamos librerías importantes a usar\n",
    "import numpy as np\n",
    "from scipy.integrate import solve_ivp\n",
    "from scipy.integrate import solve_bvp\n",
    "from scipy import constants as ctes\n",
    "\n",
    "import matplotlib as mpl\n",
    "import matplotlib.pyplot as plt\n",
    "\n",
    "%matplotlib inline #para que se vean bien los gráficos en jupyter notebook:"
   ],
   "metadata": {
    "collapsed": false,
    "pycharm": {
     "name": "#%%\n"
    }
   },
   "execution_count": null,
   "outputs": [
    {
     "name": "stderr",
     "output_type": "stream",
     "text": [
      "UsageError: unrecognized arguments: #para que se vean bien los graficos en juupyter notebook:\n"
     ]
    }
   ]
  },
  {
   "cell_type": "markdown",
   "source": [
    "# Modelo y análisis de Leine et al. 2009"
   ],
   "metadata": {
    "collapsed": false
   }
  },
  {
   "cell_type": "code",
   "execution_count": null,
   "outputs": [],
   "source": [
    "#Definimos el modelo como un sistema de odes de 1 orden.\n",
    "def leine(t,cond_init,):\n",
    "\n",
    "\n",
    "\n",
    "    return tuple\n",
    "\n",
    "#Definimos un intervalo de 40 segundos\n",
    "time = np.linspace(0,40,100)\n",
    "\n",
    "#seteamos los argumentos del modelo\n",
    "\n",
    "\n",
    "leine_args= []\n",
    "\n",
    "#seteamos las condiciones iniciales\n",
    "\n",
    "\n",
    "cond_init = []\n",
    "\n",
    "#Resolvemos el sistema\n",
    "sol_leine = solve_ivp(leine, t_span=time,y0=cond_init, args= )"
   ],
   "metadata": {
    "collapsed": false,
    "pycharm": {
     "name": "#%%\n"
    }
   }
  },
  {
   "cell_type": "markdown",
   "source": [
    "# Modelo de Cendra y Díaz et al. 2007"
   ],
   "metadata": {
    "collapsed": false,
    "pycharm": {
     "name": "#%% md\n"
    }
   }
  },
  {
   "cell_type": "code",
   "execution_count": null,
   "outputs": [],
   "source": [
    "def cendra():\n",
    "\n",
    "    return tuple\n",
    "\n",
    "time = np.linspace(0,40,100) #Definimos un intervalo de 40 segundos\n"
   ],
   "metadata": {
    "collapsed": false,
    "pycharm": {
     "name": "#%%\n"
    }
   }
  }
 ],
 "metadata": {
  "kernelspec": {
   "display_name": "Python 3",
   "language": "python",
   "name": "python3"
  },
  "language_info": {
   "codemirror_mode": {
    "name": "ipython",
    "version": 2
   },
   "file_extension": ".py",
   "mimetype": "text/x-python",
   "name": "python",
   "nbconvert_exporter": "python",
   "pygments_lexer": "ipython2",
   "version": "2.7.6"
  }
 },
 "nbformat": 4,
 "nbformat_minor": 0
}