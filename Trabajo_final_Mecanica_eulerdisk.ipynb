{
 "cells": [
  {
   "cell_type": "code",
   "source": [
    "#Importamos librerías importantes a usar\n",
    "import numpy as np\n",
    "from scipy.integrate import solve_ivp\n",
    "from scipy import constants as ctes\n",
    "\n",
    "import matplotlib as mpl\n",
    "import matplotlib.pyplot as plt\n",
    "\n",
    "%matplotlib inline\n",
    "#para que se vean bien los gráficos en jupyter notebook:"
   ],
   "metadata": {
    "collapsed": false,
    "pycharm": {
     "name": "#%%\n"
    }
   },
   "execution_count": 8,
   "outputs": []
  },
  {
   "cell_type": "markdown",
   "source": [
    "# Modelo y análisis de Leine et al. 2009"
   ],
   "metadata": {
    "collapsed": false
   }
  },
  {
   "cell_type": "code",
   "execution_count": 9,
   "outputs": [
    {
     "ename": "ValueError",
     "evalue": "not enough values to unpack (expected 9, got 8)",
     "output_type": "error",
     "traceback": [
      "\u001B[0;31m---------------------------------------------------------------------------\u001B[0m",
      "\u001B[0;31mValueError\u001B[0m                                Traceback (most recent call last)",
      "\u001B[0;32m/tmp/ipykernel_21884/576070885.py\u001B[0m in \u001B[0;36m<module>\u001B[0;34m\u001B[0m\n\u001B[1;32m     60\u001B[0m \u001B[0;34m\u001B[0m\u001B[0m\n\u001B[1;32m     61\u001B[0m \u001B[0;31m#Resolvemos el sistema\u001B[0m\u001B[0;34m\u001B[0m\u001B[0;34m\u001B[0m\u001B[0;34m\u001B[0m\u001B[0m\n\u001B[0;32m---> 62\u001B[0;31m \u001B[0msol_leine\u001B[0m \u001B[0;34m=\u001B[0m \u001B[0msolve_ivp\u001B[0m\u001B[0;34m(\u001B[0m\u001B[0mleine\u001B[0m\u001B[0;34m,\u001B[0m \u001B[0mt_span\u001B[0m\u001B[0;34m=\u001B[0m\u001B[0;34m(\u001B[0m\u001B[0;36m0.\u001B[0m\u001B[0;34m,\u001B[0m\u001B[0;36m40.\u001B[0m\u001B[0;34m)\u001B[0m\u001B[0;34m,\u001B[0m\u001B[0my0\u001B[0m\u001B[0;34m=\u001B[0m\u001B[0mcond_init\u001B[0m\u001B[0;34m,\u001B[0m \u001B[0margs\u001B[0m\u001B[0;34m=\u001B[0m\u001B[0mleine_args\u001B[0m\u001B[0;34m)\u001B[0m\u001B[0;34m\u001B[0m\u001B[0;34m\u001B[0m\u001B[0m\n\u001B[0m\u001B[1;32m     63\u001B[0m \u001B[0;34m\u001B[0m\u001B[0m\n\u001B[1;32m     64\u001B[0m \u001B[0mhelp\u001B[0m\u001B[0;34m(\u001B[0m\u001B[0msol_leine\u001B[0m\u001B[0;34m)\u001B[0m\u001B[0;34m\u001B[0m\u001B[0;34m\u001B[0m\u001B[0m\n",
      "\u001B[0;32m~/anaconda3/lib/python3.8/site-packages/scipy/integrate/_ivp/ivp.py\u001B[0m in \u001B[0;36msolve_ivp\u001B[0;34m(fun, t_span, y0, method, t_eval, dense_output, events, vectorized, args, **options)\u001B[0m\n\u001B[1;32m    540\u001B[0m         \u001B[0mmethod\u001B[0m \u001B[0;34m=\u001B[0m \u001B[0mMETHODS\u001B[0m\u001B[0;34m[\u001B[0m\u001B[0mmethod\u001B[0m\u001B[0;34m]\u001B[0m\u001B[0;34m\u001B[0m\u001B[0;34m\u001B[0m\u001B[0m\n\u001B[1;32m    541\u001B[0m \u001B[0;34m\u001B[0m\u001B[0m\n\u001B[0;32m--> 542\u001B[0;31m     \u001B[0msolver\u001B[0m \u001B[0;34m=\u001B[0m \u001B[0mmethod\u001B[0m\u001B[0;34m(\u001B[0m\u001B[0mfun\u001B[0m\u001B[0;34m,\u001B[0m \u001B[0mt0\u001B[0m\u001B[0;34m,\u001B[0m \u001B[0my0\u001B[0m\u001B[0;34m,\u001B[0m \u001B[0mtf\u001B[0m\u001B[0;34m,\u001B[0m \u001B[0mvectorized\u001B[0m\u001B[0;34m=\u001B[0m\u001B[0mvectorized\u001B[0m\u001B[0;34m,\u001B[0m \u001B[0;34m**\u001B[0m\u001B[0moptions\u001B[0m\u001B[0;34m)\u001B[0m\u001B[0;34m\u001B[0m\u001B[0;34m\u001B[0m\u001B[0m\n\u001B[0m\u001B[1;32m    543\u001B[0m \u001B[0;34m\u001B[0m\u001B[0m\n\u001B[1;32m    544\u001B[0m     \u001B[0;32mif\u001B[0m \u001B[0mt_eval\u001B[0m \u001B[0;32mis\u001B[0m \u001B[0;32mNone\u001B[0m\u001B[0;34m:\u001B[0m\u001B[0;34m\u001B[0m\u001B[0;34m\u001B[0m\u001B[0m\n",
      "\u001B[0;32m~/anaconda3/lib/python3.8/site-packages/scipy/integrate/_ivp/rk.py\u001B[0m in \u001B[0;36m__init__\u001B[0;34m(self, fun, t0, y0, t_bound, max_step, rtol, atol, vectorized, first_step, **extraneous)\u001B[0m\n\u001B[1;32m     92\u001B[0m         \u001B[0mself\u001B[0m\u001B[0;34m.\u001B[0m\u001B[0mmax_step\u001B[0m \u001B[0;34m=\u001B[0m \u001B[0mvalidate_max_step\u001B[0m\u001B[0;34m(\u001B[0m\u001B[0mmax_step\u001B[0m\u001B[0;34m)\u001B[0m\u001B[0;34m\u001B[0m\u001B[0;34m\u001B[0m\u001B[0m\n\u001B[1;32m     93\u001B[0m         \u001B[0mself\u001B[0m\u001B[0;34m.\u001B[0m\u001B[0mrtol\u001B[0m\u001B[0;34m,\u001B[0m \u001B[0mself\u001B[0m\u001B[0;34m.\u001B[0m\u001B[0matol\u001B[0m \u001B[0;34m=\u001B[0m \u001B[0mvalidate_tol\u001B[0m\u001B[0;34m(\u001B[0m\u001B[0mrtol\u001B[0m\u001B[0;34m,\u001B[0m \u001B[0matol\u001B[0m\u001B[0;34m,\u001B[0m \u001B[0mself\u001B[0m\u001B[0;34m.\u001B[0m\u001B[0mn\u001B[0m\u001B[0;34m)\u001B[0m\u001B[0;34m\u001B[0m\u001B[0;34m\u001B[0m\u001B[0m\n\u001B[0;32m---> 94\u001B[0;31m         \u001B[0mself\u001B[0m\u001B[0;34m.\u001B[0m\u001B[0mf\u001B[0m \u001B[0;34m=\u001B[0m \u001B[0mself\u001B[0m\u001B[0;34m.\u001B[0m\u001B[0mfun\u001B[0m\u001B[0;34m(\u001B[0m\u001B[0mself\u001B[0m\u001B[0;34m.\u001B[0m\u001B[0mt\u001B[0m\u001B[0;34m,\u001B[0m \u001B[0mself\u001B[0m\u001B[0;34m.\u001B[0m\u001B[0my\u001B[0m\u001B[0;34m)\u001B[0m\u001B[0;34m\u001B[0m\u001B[0;34m\u001B[0m\u001B[0m\n\u001B[0m\u001B[1;32m     95\u001B[0m         \u001B[0;32mif\u001B[0m \u001B[0mfirst_step\u001B[0m \u001B[0;32mis\u001B[0m \u001B[0;32mNone\u001B[0m\u001B[0;34m:\u001B[0m\u001B[0;34m\u001B[0m\u001B[0;34m\u001B[0m\u001B[0m\n\u001B[1;32m     96\u001B[0m             self.h_abs = select_initial_step(\n",
      "\u001B[0;32m~/anaconda3/lib/python3.8/site-packages/scipy/integrate/_ivp/base.py\u001B[0m in \u001B[0;36mfun\u001B[0;34m(t, y)\u001B[0m\n\u001B[1;32m    136\u001B[0m         \u001B[0;32mdef\u001B[0m \u001B[0mfun\u001B[0m\u001B[0;34m(\u001B[0m\u001B[0mt\u001B[0m\u001B[0;34m,\u001B[0m \u001B[0my\u001B[0m\u001B[0;34m)\u001B[0m\u001B[0;34m:\u001B[0m\u001B[0;34m\u001B[0m\u001B[0;34m\u001B[0m\u001B[0m\n\u001B[1;32m    137\u001B[0m             \u001B[0mself\u001B[0m\u001B[0;34m.\u001B[0m\u001B[0mnfev\u001B[0m \u001B[0;34m+=\u001B[0m \u001B[0;36m1\u001B[0m\u001B[0;34m\u001B[0m\u001B[0;34m\u001B[0m\u001B[0m\n\u001B[0;32m--> 138\u001B[0;31m             \u001B[0;32mreturn\u001B[0m \u001B[0mself\u001B[0m\u001B[0;34m.\u001B[0m\u001B[0mfun_single\u001B[0m\u001B[0;34m(\u001B[0m\u001B[0mt\u001B[0m\u001B[0;34m,\u001B[0m \u001B[0my\u001B[0m\u001B[0;34m)\u001B[0m\u001B[0;34m\u001B[0m\u001B[0;34m\u001B[0m\u001B[0m\n\u001B[0m\u001B[1;32m    139\u001B[0m \u001B[0;34m\u001B[0m\u001B[0m\n\u001B[1;32m    140\u001B[0m         \u001B[0mself\u001B[0m\u001B[0;34m.\u001B[0m\u001B[0mfun\u001B[0m \u001B[0;34m=\u001B[0m \u001B[0mfun\u001B[0m\u001B[0;34m\u001B[0m\u001B[0;34m\u001B[0m\u001B[0m\n",
      "\u001B[0;32m~/anaconda3/lib/python3.8/site-packages/scipy/integrate/_ivp/base.py\u001B[0m in \u001B[0;36mfun_wrapped\u001B[0;34m(t, y)\u001B[0m\n\u001B[1;32m     18\u001B[0m \u001B[0;34m\u001B[0m\u001B[0m\n\u001B[1;32m     19\u001B[0m     \u001B[0;32mdef\u001B[0m \u001B[0mfun_wrapped\u001B[0m\u001B[0;34m(\u001B[0m\u001B[0mt\u001B[0m\u001B[0;34m,\u001B[0m \u001B[0my\u001B[0m\u001B[0;34m)\u001B[0m\u001B[0;34m:\u001B[0m\u001B[0;34m\u001B[0m\u001B[0;34m\u001B[0m\u001B[0m\n\u001B[0;32m---> 20\u001B[0;31m         \u001B[0;32mreturn\u001B[0m \u001B[0mnp\u001B[0m\u001B[0;34m.\u001B[0m\u001B[0masarray\u001B[0m\u001B[0;34m(\u001B[0m\u001B[0mfun\u001B[0m\u001B[0;34m(\u001B[0m\u001B[0mt\u001B[0m\u001B[0;34m,\u001B[0m \u001B[0my\u001B[0m\u001B[0;34m)\u001B[0m\u001B[0;34m,\u001B[0m \u001B[0mdtype\u001B[0m\u001B[0;34m=\u001B[0m\u001B[0mdtype\u001B[0m\u001B[0;34m)\u001B[0m\u001B[0;34m\u001B[0m\u001B[0;34m\u001B[0m\u001B[0m\n\u001B[0m\u001B[1;32m     21\u001B[0m \u001B[0;34m\u001B[0m\u001B[0m\n\u001B[1;32m     22\u001B[0m     \u001B[0;32mreturn\u001B[0m \u001B[0mfun_wrapped\u001B[0m\u001B[0;34m,\u001B[0m \u001B[0my0\u001B[0m\u001B[0;34m\u001B[0m\u001B[0;34m\u001B[0m\u001B[0m\n",
      "\u001B[0;32m~/anaconda3/lib/python3.8/site-packages/scipy/integrate/_ivp/ivp.py\u001B[0m in \u001B[0;36m<lambda>\u001B[0;34m(t, x, fun)\u001B[0m\n\u001B[1;32m    512\u001B[0m         \u001B[0;31m# additional parameters.  Pass in the original fun as a keyword\u001B[0m\u001B[0;34m\u001B[0m\u001B[0;34m\u001B[0m\u001B[0;34m\u001B[0m\u001B[0m\n\u001B[1;32m    513\u001B[0m         \u001B[0;31m# argument to keep it in the scope of the lambda.\u001B[0m\u001B[0;34m\u001B[0m\u001B[0;34m\u001B[0m\u001B[0;34m\u001B[0m\u001B[0m\n\u001B[0;32m--> 514\u001B[0;31m         \u001B[0mfun\u001B[0m \u001B[0;34m=\u001B[0m \u001B[0;32mlambda\u001B[0m \u001B[0mt\u001B[0m\u001B[0;34m,\u001B[0m \u001B[0mx\u001B[0m\u001B[0;34m,\u001B[0m \u001B[0mfun\u001B[0m\u001B[0;34m=\u001B[0m\u001B[0mfun\u001B[0m\u001B[0;34m:\u001B[0m \u001B[0mfun\u001B[0m\u001B[0;34m(\u001B[0m\u001B[0mt\u001B[0m\u001B[0;34m,\u001B[0m \u001B[0mx\u001B[0m\u001B[0;34m,\u001B[0m \u001B[0;34m*\u001B[0m\u001B[0margs\u001B[0m\u001B[0;34m)\u001B[0m\u001B[0;34m\u001B[0m\u001B[0;34m\u001B[0m\u001B[0m\n\u001B[0m\u001B[1;32m    515\u001B[0m         \u001B[0mjac\u001B[0m \u001B[0;34m=\u001B[0m \u001B[0moptions\u001B[0m\u001B[0;34m.\u001B[0m\u001B[0mget\u001B[0m\u001B[0;34m(\u001B[0m\u001B[0;34m'jac'\u001B[0m\u001B[0;34m)\u001B[0m\u001B[0;34m\u001B[0m\u001B[0;34m\u001B[0m\u001B[0m\n\u001B[1;32m    516\u001B[0m         \u001B[0;32mif\u001B[0m \u001B[0mcallable\u001B[0m\u001B[0;34m(\u001B[0m\u001B[0mjac\u001B[0m\u001B[0;34m)\u001B[0m\u001B[0;34m:\u001B[0m\u001B[0;34m\u001B[0m\u001B[0;34m\u001B[0m\u001B[0m\n",
      "\u001B[0;32m/tmp/ipykernel_21884/576070885.py\u001B[0m in \u001B[0;36mleine\u001B[0;34m(t, cond_init, k1, k2, eps, gn, rr)\u001B[0m\n\u001B[1;32m      8\u001B[0m \u001B[0;34m\u001B[0m\u001B[0m\n\u001B[1;32m      9\u001B[0m     \u001B[0;31m#Condiciones iniciales del sistema\u001B[0m\u001B[0;34m\u001B[0m\u001B[0;34m\u001B[0m\u001B[0;34m\u001B[0m\u001B[0m\n\u001B[0;32m---> 10\u001B[0;31m     \u001B[0mBeta\u001B[0m\u001B[0;34m,\u001B[0m\u001B[0momegaB\u001B[0m\u001B[0;34m,\u001B[0m\u001B[0mGamma\u001B[0m\u001B[0;34m,\u001B[0m\u001B[0momegaG\u001B[0m\u001B[0;34m,\u001B[0m\u001B[0mAlfa\u001B[0m\u001B[0;34m,\u001B[0m\u001B[0momegaA\u001B[0m\u001B[0;34m,\u001B[0m\u001B[0mx\u001B[0m\u001B[0;34m,\u001B[0m\u001B[0my\u001B[0m\u001B[0;34m,\u001B[0m\u001B[0mdomegaA\u001B[0m \u001B[0;34m=\u001B[0m \u001B[0mcond_init\u001B[0m\u001B[0;34m\u001B[0m\u001B[0;34m\u001B[0m\u001B[0m\n\u001B[0m\u001B[1;32m     11\u001B[0m \u001B[0;34m\u001B[0m\u001B[0m\n\u001B[1;32m     12\u001B[0m     \u001B[0mdomegaB\u001B[0m \u001B[0;34m=\u001B[0m \u001B[0;34m(\u001B[0m\u001B[0;36m1\u001B[0m \u001B[0;34m/\u001B[0m \u001B[0;34m(\u001B[0m\u001B[0mk1\u001B[0m \u001B[0;34m+\u001B[0m \u001B[0;36m1\u001B[0m \u001B[0;34m+\u001B[0m \u001B[0mnp\u001B[0m\u001B[0;34m.\u001B[0m\u001B[0msquare\u001B[0m\u001B[0;34m(\u001B[0m\u001B[0meps\u001B[0m\u001B[0;34m)\u001B[0m\u001B[0;34m)\u001B[0m\u001B[0;34m)\u001B[0m \u001B[0;34m*\u001B[0m \u001B[0;34m(\u001B[0m\u001B[0mFx_diss\u001B[0m \u001B[0;34m+\u001B[0m \u001B[0mgn\u001B[0m \u001B[0;34m*\u001B[0m \u001B[0;34m(\u001B[0m\u001B[0mnp\u001B[0m\u001B[0;34m.\u001B[0m\u001B[0msin\u001B[0m\u001B[0;34m(\u001B[0m\u001B[0mBeta\u001B[0m\u001B[0;34m)\u001B[0m \u001B[0;34m-\u001B[0m \u001B[0meps\u001B[0m \u001B[0;34m*\u001B[0m \u001B[0mnp\u001B[0m\u001B[0;34m.\u001B[0m\u001B[0mcos\u001B[0m\u001B[0;34m(\u001B[0m\u001B[0mBeta\u001B[0m\u001B[0;34m)\u001B[0m\u001B[0;34m)\u001B[0m \u001B[0;34m-\u001B[0m \u001B[0;34m(\u001B[0m\u001B[0mnp\u001B[0m\u001B[0;34m.\u001B[0m\u001B[0mcos\u001B[0m\u001B[0;34m(\u001B[0m\u001B[0mBeta\u001B[0m\u001B[0;34m)\u001B[0m \u001B[0;34m*\u001B[0m \u001B[0;34m(\u001B[0m\u001B[0mk2\u001B[0m \u001B[0;34m+\u001B[0m \u001B[0;36m1\u001B[0m \u001B[0;34m+\u001B[0m \u001B[0meps\u001B[0m \u001B[0;34m*\u001B[0m \u001B[0mnp\u001B[0m\u001B[0;34m.\u001B[0m\u001B[0mtan\u001B[0m\u001B[0;34m(\u001B[0m\u001B[0mBeta\u001B[0m\u001B[0;34m)\u001B[0m\u001B[0;34m)\u001B[0m\u001B[0;34m)\u001B[0m \u001B[0;34m*\u001B[0m \u001B[0momegaG\u001B[0m \u001B[0;34m*\u001B[0m \u001B[0momegaA\u001B[0m \u001B[0;34m-\u001B[0m \u001B[0;34m(\u001B[0m\u001B[0;34m(\u001B[0m\u001B[0mk2\u001B[0m \u001B[0;34m+\u001B[0m \u001B[0;36m1\u001B[0m \u001B[0;34m+\u001B[0m \u001B[0meps\u001B[0m \u001B[0;34m*\u001B[0m \u001B[0mnp\u001B[0m\u001B[0;34m.\u001B[0m\u001B[0mtan\u001B[0m\u001B[0;34m(\u001B[0m\u001B[0mBeta\u001B[0m\u001B[0;34m)\u001B[0m\u001B[0;34m)\u001B[0m \u001B[0;34m*\u001B[0m \u001B[0mnp\u001B[0m\u001B[0;34m.\u001B[0m\u001B[0msin\u001B[0m\u001B[0;34m(\u001B[0m\u001B[0mBeta\u001B[0m\u001B[0;34m)\u001B[0m \u001B[0;34m*\u001B[0m \u001B[0mnp\u001B[0m\u001B[0;34m.\u001B[0m\u001B[0mcos\u001B[0m\u001B[0;34m(\u001B[0m\u001B[0mBeta\u001B[0m\u001B[0;34m)\u001B[0m \u001B[0;34m+\u001B[0m \u001B[0;34m(\u001B[0m\u001B[0;34m(\u001B[0m\u001B[0mk1\u001B[0m \u001B[0;34m+\u001B[0m \u001B[0mnp\u001B[0m\u001B[0;34m.\u001B[0m\u001B[0msquare\u001B[0m\u001B[0;34m(\u001B[0m\u001B[0meps\u001B[0m\u001B[0;34m)\u001B[0m\u001B[0;34m)\u001B[0m \u001B[0;34m*\u001B[0m \u001B[0mnp\u001B[0m\u001B[0;34m.\u001B[0m\u001B[0mtan\u001B[0m\u001B[0;34m(\u001B[0m\u001B[0mBeta\u001B[0m\u001B[0;34m)\u001B[0m \u001B[0;34m+\u001B[0m \u001B[0meps\u001B[0m\u001B[0;34m)\u001B[0m \u001B[0;34m*\u001B[0m \u001B[0mnp\u001B[0m\u001B[0;34m.\u001B[0m\u001B[0msquare\u001B[0m\u001B[0;34m(\u001B[0m\u001B[0mnp\u001B[0m\u001B[0;34m.\u001B[0m\u001B[0mcos\u001B[0m\u001B[0;34m(\u001B[0m\u001B[0mBeta\u001B[0m\u001B[0;34m)\u001B[0m\u001B[0;34m)\u001B[0m\u001B[0;34m)\u001B[0m \u001B[0;34m*\u001B[0m \u001B[0mnp\u001B[0m\u001B[0;34m.\u001B[0m\u001B[0msquare\u001B[0m\u001B[0;34m(\u001B[0m\u001B[0momegaA\u001B[0m\u001B[0;34m)\u001B[0m\u001B[0;34m)\u001B[0m\u001B[0;34m\u001B[0m\u001B[0;34m\u001B[0m\u001B[0m\n",
      "\u001B[0;31mValueError\u001B[0m: not enough values to unpack (expected 9, got 8)"
     ]
    }
   ],
   "source": [
    "#Definimos el modelo como un sistema de odes de 1 orden.\n",
    "def leine(t,cond_init,k1,k2,eps,gn,rr):\n",
    "\n",
    "    #Dejo esto para usar más adelante\n",
    "    Fx_diss = 0\n",
    "    Fy_diss = 0\n",
    "    Fz_diss = 0\n",
    "\n",
    "    #Condiciones iniciales del sistema\n",
    "    Beta,omegaB,Gamma,omegaG,Alfa,omegaA,x,y,domegaA = cond_init\n",
    "\n",
    "    domegaB = (1 / (k1 + 1 + np.square(eps))) * (Fx_diss + gn * (np.sin(Beta) - eps * np.cos(Beta)) - (np.cos(Beta) * (k2 + 1 + eps * np.tan(Beta))) * omegaG * omegaA - ((k2 + 1 + eps * np.tan(Beta)) * np.sin(Beta) * np.cos(Beta) + ((k1 + np.square(eps)) * np.tan(Beta) + eps) * np.square(np.cos(Beta))) * np.square(omegaA))\n",
    "    domegaG = (1 / (k2 + 1)) * (Fy_diss - ((k2 + 1) * np.sin(Beta) - eps * np.cos(Beta)) * domegaA - (eps * np.sin(Beta) + (k2 + 2 + eps * np.tan(Beta)) * np.cos(Beta)) * omegaA * omegaB)\n",
    "    domegaA = (1 / ((k1 + np.square(eps)) * np.cos(Beta) - np.sin(Beta))) * (Fz_diss + eps * domegaG - ((k2 - k1 + np.square(eps)) * np.sin(Beta) - ((k1 + np.square(eps)) * np.tan(Beta) + 2 * eps) * np.cos(Beta)) * omegaA * omegaB - k2 * omegaG * omegaB)\n",
    "\n",
    "    #these hold only for pure rolling i.e. rolling without slipping\n",
    "    vx = rr * omegaG + (y + 2 * rr * np.sin(Beta)) * omegaA\n",
    "    vy = -omegaA * x\n",
    "\n",
    "    return omegaB,domegaB,omegaG,domegaG,omegaA,domegaA,vx,vy\n",
    "\n",
    "#seteamos las condiciones iniciales\n",
    "x_0 = 0\n",
    "y_0 = 0.3 #en m?\n",
    "Beta = np.pi / 8  # Empezamos a 22.5 grados\n",
    "omegaB_O = 0\n",
    "Gamma = 0\n",
    "omegaG_O = 2 * np.pi\n",
    "Alfa = 0\n",
    "omegaA_O = 0\n",
    "domega_A = 0\n",
    "cond_init = [Beta,omegaB_O,Gamma,omegaG_O,Alfa,omegaA_O,x_0,y_0]\n",
    "\n",
    "######################################\n",
    "##seteamos los parametros del modelo##\n",
    "######################################\n",
    "\n",
    "m = 0.4499   #masa del modelo en kg\n",
    "r_0 = 0.0381 #radio del disco en [m] <- 75.5 mm / 2\n",
    "r = 0.035    #radio de rodadura     <- 70 mm no se de donde lo saco a este\n",
    "h = 0.00635  #Ancho del disco en [m]  <-  12.7 mm / 2\n",
    "g = ctes.g   #Constante gravitacional\n",
    "\n",
    "#Momentos de inercia de los ejes principales\n",
    "I_11 = (1 / 4) * m * np.square(r_0) + (1 / 12) * m * np.square(h)\n",
    "I_22 = I_11\n",
    "I_33 = (1 / 2) * m * np.square(r_0)\n",
    "norm_I = m * np.square(r)\n",
    "\n",
    "#Calculamos los parametros usados finalmente.\n",
    "k_1 = I_11 / norm_I\n",
    "k_2 = I_33 / norm_I\n",
    "epsilon = h / r\n",
    "g_norm = g / r\n",
    "\n",
    "leine_args = [k_1,k_2,epsilon,g_norm,r]\n",
    "\n",
    "#Definimos un intervalo de 40 segundos\n",
    "time = np.linspace(0,40,100)\n",
    "\n",
    "#Resolvemos el sistema\n",
    "sol_leine = solve_ivp(leine, t_span=(0.,40.),y0=cond_init, args=leine_args)\n",
    "\n",
    "help(sol_leine)"
   ],
   "metadata": {
    "collapsed": false,
    "pycharm": {
     "name": "#%%\n"
    }
   }
  },
  {
   "cell_type": "markdown",
   "source": [
    "# Modelo de Cendra y Díaz et al. 2007"
   ],
   "metadata": {
    "collapsed": false,
    "pycharm": {
     "name": "#%% md\n"
    }
   }
  },
  {
   "cell_type": "code",
   "execution_count": null,
   "outputs": [],
   "source": [
    "def cendra(t,cond_init,M,rr,e,g,I1,I3):\n",
    "\n",
    "    #seteamos las condiciones iniciales del sistema\n",
    "    theta,phi,psi,a,b,vo= cond_init\n",
    "\n",
    "    #algunas constantes\n",
    "    r_s = np.square(rr)\n",
    "    e_s = np.square(e)\n",
    "\n",
    "    #calculamos el sistema\n",
    "    theta_pto = a\n",
    "    phi_pto = b\n",
    "    psi_pto = vo\n",
    "    a_pto = (1 / ((4 * I1) + M * r_s * (4 + e_s))) * (-2*e*M*r_s*np.cos(2*theta)*np.square(b) + 2*(M*g*r*e - 2*b*(I3 + M*r_s)*vo) * np.sin(theta) + (-2*M*r*(2*g + e*r*b*vo) + np.square(b) * np.sin(theta) * (4*I1 - 4*I3 + (-4 + e_s)*M*r_s)) * np.cos(theta))\n",
    "    b_pto = ((-2 * a) / (4*I1*I3 + M*r_s*(4*I1 + I3*e_s))) * (e*b*I3*M*r_s + (b/np.tan(theta)) * (4*I1*(I3 + M*r_s) + I3*(-2*I3 + (-2 + e_s)*M*r_s)) - 2*I3*(I3 + M*r_s)*vo*(1/np.cos(theta)))\n",
    "    vo_pto = (1 / (8*I1*I3 + 2*M*r_s*(4*I1 + I3*e_s))) * (a*(1/np.cos(theta))*(4*b*I3*(3*I1 - I3) +b*M*r_s*(16*I1 + I3(-4 + 3*r_s)) - 8*I3*(I3 + M*r_s)*vo*np.cos(theta) + b*I3*(4*I1 - 4*I3 + M*r_s*(-4 +e_s))*np.cos(2*theta) + 4*e*I3*M*r_s*(vo + 2*b*np.np.cos(theta))*np.sin(theta)))\n",
    "    #acceleration of the point of contact\n",
    "    v11_pto = (1 / (4*I1*I3 + M*r_s*(4*I1 + I3*e_s))) * (a*r*np.cos(phi)*(-2*I3*M*r_s*e*(vo +2*b*np.cos(theta)) + 4*I3*(I3 +M*r_s)*vo*(1/np.tan(theta)) - 2*b*(4*I1*(I3 + M*r_s) + I3*(-2*I3 + (-2 +e_s)*M*r_s))*(1/np.cos(theta)) + I3*b*(4*I1 - 4*I3 + (-4 + e_s)*M*r_s)*np.sin(theta)) + b*r*(4*I1*I3 + (4*I1 + I3*e_s)*M*r_s)*vo*np.sin(phi))\n",
    "    v12_pto = (-1 / (8*I1*I3 + 2*M*r_s*(4*I1 + I3*e_s))) * (2*b*r*(4*I1*I3 + (4*I1 + I3*e_s)*M*r_s)*vo*np.cos(phi) + (a*r / np.cos(theta)) * (4*b*(3*I1 -I3)*I3 +  b*(16*I1 + (-4 +3*e_s)*I3)*M*r_s - 8*I3*(I3 + M*r_s)*vo*np.cos(theta) + b*I3*(4*I1 - 4*I3 + (-4 + e_s)*M*r_s)*np.cos(2*theta) + 4*I3*e*M*r_s*(vo + 2*b*np.cos(theta))*np.sin(theta)) * np.sin(phi))\n",
    "\n",
    "    return theta_pto,phi_pto,psi_pto,a_pto,b_pto,vo_pto,v11_pto,v12_pto\n",
    "\n",
    "##############################\n",
    "#definimos condiciones iniciales\n",
    "theta_0 =\n",
    "phi_0 =\n",
    "psi_0 =\n",
    "dtheta_0 =\n",
    "dphi_0 =\n",
    "dpsi_0 =\n",
    "\n",
    "cond_iniciales = [theta_0,phi_0,psi_0,dtheta_0,dphi_0,dpsi_0]\n",
    "\n",
    "#Seteamos los valores de los parametros a usar\n",
    "M = 0.4499 # en kg\n",
    "r =\n",
    "e =\n",
    "g = ctes.g\n",
    "I1 =\n",
    "I3 =\n",
    "\n",
    "\n",
    "## definimos el span de tiempo a tomar\n",
    "time = np.linspace(0,40,100) #Definimos un intervalo de 40 segundos\n"
   ],
   "metadata": {
    "collapsed": false,
    "pycharm": {
     "name": "#%%\n"
    }
   }
  },
  {
   "cell_type": "code",
   "execution_count": null,
   "outputs": [],
   "source": [],
   "metadata": {
    "collapsed": false,
    "pycharm": {
     "name": "#%%\n"
    }
   }
  }
 ],
 "metadata": {
  "kernelspec": {
   "display_name": "Python 3",
   "language": "python",
   "name": "python3"
  },
  "language_info": {
   "codemirror_mode": {
    "name": "ipython",
    "version": 2
   },
   "file_extension": ".py",
   "mimetype": "text/x-python",
   "name": "python",
   "nbconvert_exporter": "python",
   "pygments_lexer": "ipython2",
   "version": "2.7.6"
  }
 },
 "nbformat": 4,
 "nbformat_minor": 0
}